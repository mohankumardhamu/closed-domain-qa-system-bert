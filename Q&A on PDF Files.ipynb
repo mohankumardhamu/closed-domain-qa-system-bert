{
 "cells": [
  {
   "cell_type": "code",
   "execution_count": 1,
   "metadata": {},
   "outputs": [
    {
     "name": "stderr",
     "output_type": "stream",
     "text": [
      "/home/codemantra/anaconda3/lib/python3.7/site-packages/tqdm/autonotebook/__init__.py:18: TqdmExperimentalWarning: Using `tqdm.autonotebook.tqdm` in notebook mode. Use `tqdm.tqdm` instead to force console mode (e.g. in jupyter console)\n",
      "  \" (e.g. in jupyter console)\", TqdmExperimentalWarning)\n",
      "I1219 17:49:22.548471 139876178990848 file_utils.py:39] PyTorch version 1.2.0 available.\n",
      "I1219 17:49:23.198720 139876178990848 modeling_xlnet.py:194] Better speed can be achieved with apex installed from https://www.github.com/nvidia/apex .\n"
     ]
    }
   ],
   "source": [
    "#import statements\n",
    "import os\n",
    "import pandas as pd\n",
    "from ast import literal_eval\n",
    "\n",
    "from cdqa.utils.converters import pdf_converter\n",
    "from cdqa.pipeline import  QAPipeline\n",
    "from cdqa.utils.download import download_model"
   ]
  },
  {
   "cell_type": "code",
   "execution_count": 2,
   "metadata": {},
   "outputs": [
    {
     "name": "stdout",
     "output_type": "stream",
     "text": [
      "\n",
      "Downloading trained model...\n",
      "bert_qa.joblib already downloaded\n"
     ]
    }
   ],
   "source": [
    "#Download Model\n",
    "download_model(model='bert-squad_1.1', dir='./models')"
   ]
  },
  {
   "cell_type": "code",
   "execution_count": 3,
   "metadata": {},
   "outputs": [
    {
     "name": "stderr",
     "output_type": "stream",
     "text": [
      "2021-12-19 17:49:23,571 [MainThread  ] [INFO ]  Retrieving http://search.maven.org/remotecontent?filepath=org/apache/tika/tika-server/1.19/tika-server-1.19.jar to /tmp/tika-server.jar.\n",
      "I1219 17:49:23.571906 139876178990848 tika.py:714] Retrieving http://search.maven.org/remotecontent?filepath=org/apache/tika/tika-server/1.19/tika-server-1.19.jar to /tmp/tika-server.jar.\n",
      "2021-12-19 17:49:37,492 [MainThread  ] [INFO ]  Retrieving http://search.maven.org/remotecontent?filepath=org/apache/tika/tika-server/1.19/tika-server-1.19.jar.md5 to /tmp/tika-server.jar.md5.\n",
      "I1219 17:49:37.492265 139876178990848 tika.py:714] Retrieving http://search.maven.org/remotecontent?filepath=org/apache/tika/tika-server/1.19/tika-server-1.19.jar.md5 to /tmp/tika-server.jar.md5.\n",
      "2021-12-19 17:49:39,353 [MainThread  ] [WARNI]  Failed to see startup log message; retrying...\n",
      "W1219 17:49:39.353000 139876178990848 tika.py:658] Failed to see startup log message; retrying...\n"
     ]
    },
    {
     "data": {
      "text/html": [
       "<div>\n",
       "<style scoped>\n",
       "    .dataframe tbody tr th:only-of-type {\n",
       "        vertical-align: middle;\n",
       "    }\n",
       "\n",
       "    .dataframe tbody tr th {\n",
       "        vertical-align: top;\n",
       "    }\n",
       "\n",
       "    .dataframe thead th {\n",
       "        text-align: right;\n",
       "    }\n",
       "</style>\n",
       "<table border=\"1\" class=\"dataframe\">\n",
       "  <thead>\n",
       "    <tr style=\"text-align: right;\">\n",
       "      <th></th>\n",
       "      <th>title</th>\n",
       "      <th>paragraphs</th>\n",
       "    </tr>\n",
       "  </thead>\n",
       "  <tbody>\n",
       "    <tr>\n",
       "      <th>0</th>\n",
       "      <td>CMPL_HANDBOOK</td>\n",
       "      <td>[Microsoft Word - FINAL CMPL - HANDBOOK.docx  ...</td>\n",
       "    </tr>\n",
       "  </tbody>\n",
       "</table>\n",
       "</div>"
      ],
      "text/plain": [
       "           title                                         paragraphs\n",
       "0  CMPL_HANDBOOK  [Microsoft Word - FINAL CMPL - HANDBOOK.docx  ..."
      ]
     },
     "execution_count": 3,
     "metadata": {},
     "output_type": "execute_result"
    }
   ],
   "source": [
    "df = pdf_converter(directory_path='./docs/')\n",
    "df.head()"
   ]
  },
  {
   "cell_type": "code",
   "execution_count": 4,
   "metadata": {},
   "outputs": [],
   "source": [
    "pd.set_option('display.max_colwidth', -1)"
   ]
  },
  {
   "cell_type": "code",
   "execution_count": 5,
   "metadata": {},
   "outputs": [
    {
     "name": "stderr",
     "output_type": "stream",
     "text": [
      "I1219 17:50:25.472398 139876178990848 tokenization_utils.py:374] loading file https://s3.amazonaws.com/models.huggingface.co/bert/bert-base-uncased-vocab.txt from cache at /home/codemantra/.cache/torch/transformers/26bc1ad6c0ac742e9b52263248f6d0f00068293b33709fae12320c0e35ccfbbb.542ce4285a40d23a559526243235df47c5f75c197f04f37d1a0c124c32c9a084\n",
      "I1219 17:50:31.991092 139876178990848 tokenization_utils.py:374] loading file https://s3.amazonaws.com/models.huggingface.co/bert/bert-base-uncased-vocab.txt from cache at /home/codemantra/.cache/torch/transformers/26bc1ad6c0ac742e9b52263248f6d0f00068293b33709fae12320c0e35ccfbbb.542ce4285a40d23a559526243235df47c5f75c197f04f37d1a0c124c32c9a084\n"
     ]
    },
    {
     "data": {
      "text/plain": [
       "QAPipeline(reader=BertQA(adam_epsilon=1e-08, bert_model='bert-base-uncased',\n",
       "                         do_lower_case=True, fp16=False,\n",
       "                         gradient_accumulation_steps=1, learning_rate=5e-05,\n",
       "                         local_rank=-1, loss_scale=0, max_answer_length=30,\n",
       "                         n_best_size=20, no_cuda=False,\n",
       "                         null_score_diff_threshold=0.0, num_train_epochs=3.0,\n",
       "                         output_dir=None, predict_batch_size=8, seed=42,\n",
       "                         server_ip='', server_po..._size=8,\n",
       "                         verbose_logging=False, version_2_with_negative=False,\n",
       "                         warmup_proportion=0.1, warmup_steps=0),\n",
       "           retrieve_by_doc=False,\n",
       "           retriever=BM25Retriever(b=0.75, floor=None, k1=2.0, lowercase=True,\n",
       "                                   max_df=1.0, min_df=2, ngram_range=(1, 2),\n",
       "                                   preprocessor=None, stop_words='english',\n",
       "                                   token_pattern='(?u)\\\\b\\\\w\\\\w+\\\\b',\n",
       "                                   tokenizer=None, top_n=20, verbose=False,\n",
       "                                   vocabulary=None))"
      ]
     },
     "execution_count": 5,
     "metadata": {},
     "output_type": "execute_result"
    }
   ],
   "source": [
    "cdqa_pipeline = QAPipeline(reader='./models/bert_qa.joblib', max_df=1.0)\n",
    "\n",
    "cdqa_pipeline.fit_retriever(df=df)"
   ]
  },
  {
   "cell_type": "code",
   "execution_count": 6,
   "metadata": {},
   "outputs": [
    {
     "data": {
      "text/plain": [
       "[('NIGHT',\n",
       "  'CMPL_HANDBOOK',\n",
       "  'NIGHT SHIFT ALLOWANCE POLICY  ',\n",
       "  -0.0778380567218857),\n",
       " ('4:00 hours for half a day and for extension of shift employee needs to complete the proceeding shift hour without break',\n",
       "  'CMPL_HANDBOOK',\n",
       "  'Eligibility Criteria \\uf0b7 The Employees working in Production Dept. (Digital & Composition) across facility are eligible for compensation off allowance, where the duration of the working hours will be as follows, 4:00 hours for half a day and for extension of shift employee needs to complete the proceeding shift hour without break (7:00 hours for Morning shift, Second shift), (8:00 hours for General, Night shift) and ',\n",
       "  -0.44191847804675133),\n",
       " ('7:00 hours without break on holidays',\n",
       "  'CMPL_HANDBOOK',\n",
       "  '7:00 hours without break on holidays. Allowance amount can be claimed as per the table below, ',\n",
       "  -0.4532303878062016)]"
      ]
     },
     "execution_count": 6,
     "metadata": {},
     "output_type": "execute_result"
    }
   ],
   "source": [
    "query=\"Work shift hours\"\n",
    "prediction = cdqa_pipeline.predict(query, 3)\n",
    "prediction"
   ]
  },
  {
   "cell_type": "code",
   "execution_count": 7,
   "metadata": {},
   "outputs": [
    {
     "data": {
      "text/plain": [
       "[('WEDDING GIFT POLICY -17',\n",
       "  'CMPL_HANDBOOK',\n",
       "  '4. WEDDING GIFT POLICY      -17- ',\n",
       "  1.0227434619412445),\n",
       " ('\\xa0\\xa0‐\\xa017\\xa0‐\\xa0\\xa0 WEDDING GIFT POLICY',\n",
       "  'CMPL_HANDBOOK',\n",
       "  'Changes will be intimated to staff well in advance)           \\xa0\\xa0‐\\xa017\\xa0‐\\xa0\\xa0 WEDDING GIFT POLICY  ',\n",
       "  0.6531064109796416),\n",
       " ('5yrs',\n",
       "  'CMPL_HANDBOOK',\n",
       "  'The wedding gift eligible criteria for employees are as follows: \\uf0b7 Below 5yrs– Rs.2,500/-. \\uf0b7 >5yrs – Rs.5,000/-. ',\n",
       "  0.07806877762816455)]"
      ]
     },
     "execution_count": 7,
     "metadata": {},
     "output_type": "execute_result"
    }
   ],
   "source": [
    "query=\"wedding gift\"\n",
    "prediction = cdqa_pipeline.predict(query, 3)\n",
    "prediction"
   ]
  },
  {
   "cell_type": "code",
   "execution_count": 8,
   "metadata": {},
   "outputs": [
    {
     "data": {
      "text/plain": [
       "[('6:30 a.m. 2:00 p.m.',\n",
       "  'CMPL_HANDBOOK',\n",
       "  'SHIFT START TIME END TIME Eligibility General shift 9:30 a.m. 6:30 p.m. All employees First shift 6:30 a.m. 2:00 p.m. All employees Second shift 2:00 p.m. 9:30 p.m. All employees Night shift 9:30 p.m. 6:30 a.m. All employees Executive shift 11:00 a.m. 8:00 p.m. For Managers & Key staffs  ',\n",
       "  8.333488535963303),\n",
       " ('21st to 20th of every month',\n",
       "  'CMPL_HANDBOOK',\n",
       "  'Procedure \\uf0b7 The employees who are working in night shift has to change the shift into night and login to Dctrak with proper sign-in and sign-out. The access card and Dctrak attendance are mandatory to earn the night shift allowance, failing which HR will not approve the same. \\uf0b7 The Division Head should nominate a lead who could send the night shift attendance to the HR on regular basis. \\uf0b7 The night shift attendance will be calculated from 21st to 20th of every month and the finalized report should reach the HR on 25th of every month and once the finalized report sent by the night shift lead/representative to be cross-check and approved by the Division Head in the same day which will be paid along with that month’s salary. \\uf0b7 Night shift attendance should be generated through Dctrak, no manual entry will be considered to get the allowance. (Management reserves the right to change the policy at any time for any reason improve the effectiveness of its operation.. ',\n",
       "  8.311562680570717),\n",
       " ('7:00 hours for Morning shift, Second shift',\n",
       "  'CMPL_HANDBOOK',\n",
       "  'Eligibility Criteria \\uf0b7 The Employees working in Production Dept. (Digital & Composition) across facility are eligible for compensation off allowance, where the duration of the working hours will be as follows, 4:00 hours for half a day and for extension of shift employee needs to complete the proceeding shift hour without break (7:00 hours for Morning shift, Second shift), (8:00 hours for General, Night shift) and ',\n",
       "  7.4695611699514055)]"
      ]
     },
     "execution_count": 8,
     "metadata": {},
     "output_type": "execute_result"
    }
   ],
   "source": [
    "query=\"What is our First shift timings?\"\n",
    "prediction = cdqa_pipeline.predict(query, 3)\n",
    "prediction"
   ]
  },
  {
   "cell_type": "code",
   "execution_count": 9,
   "metadata": {},
   "outputs": [
    {
     "data": {
      "text/plain": [
       "[('7:00',\n",
       "  'CMPL_HANDBOOK',\n",
       "  '7:00 hours without break on holidays. Allowance amount can be claimed as per the table below, ',\n",
       "  6.816032945275998),\n",
       " ('40',\n",
       "  'CMPL_HANDBOOK',\n",
       "  'Flexi - III \\uf0b7 This category is applicable for Associate Directors and above grades. \\uf0b7 Employees are expected to work on flexi hours - 40 hrs. per week and min. of 5 hrs is expected to support apart from office hours with all Saturday’s leave. \\uf0b7 On absence of reporting to office employee should apply any one of the following leave, work from home, on duty. It needs to be applied in dctrak manually and mail to be sent to reporting authority and HR. \\uf0b7 No shortage of hours in a day / week will reflect in leave balance. \\uf0b7 Employee can avail work from home option by applying in dctrak and dctrak time will be considered as 8hrs irrespective of the working hours. \\uf0b7 No leave or permission is required to be applied on Saturdays, Sundays, public holidays or office declared holidays. \\uf0b7 Employee who fails to bring access card for the day, dctrak time will be considered with a max limit of 7hrs irrespective of the working hours. HR should be intimated to record the no access card without fail.   \\xa0\\xa0‐\\xa08\\xa0‐\\xa0\\xa0 \\uf0b7 The official workweek for employee payroll begins as per the week wise calendar module below:  ',\n",
       "  6.630139774501397),\n",
       " ('4',\n",
       "  'CMPL_HANDBOOK',\n",
       "  '4 hours 0.5 Rs 200 Ext. of appropriate shift hours & 7 hrs on holidays 1 Rs 400  \\uf0b7 Employees should register on dctrak for every comp off eligible date, providing information such the reason for excess hours, against what project and productivity achieved which has to be approved by his/her reporting authority. \\uf0b7 Generated compensation off report from dctrak should be approved by Production department division head and to be sent to HR dept. on 21st of every month, delayed sending will not be considered for further process. \\xa0\\xa0‐\\xa019\\xa0‐\\xa0\\xa0\\uf0b7 All other depts. (Product Delivery, Product Support, OEO, PMO, Finance, Vendor, Admin & ',\n",
       "  6.591941436384838)]"
      ]
     },
     "execution_count": 9,
     "metadata": {},
     "output_type": "execute_result"
    }
   ],
   "source": [
    "query=\"How many hours should I work?\"\n",
    "prediction = cdqa_pipeline.predict(query, 3)\n",
    "prediction"
   ]
  },
  {
   "cell_type": "code",
   "execution_count": 10,
   "metadata": {},
   "outputs": [
    {
     "data": {
      "text/plain": [
       "[('7', 'CMPL_HANDBOOK', 'Marriage Leave 7 days ', 12.575693914619215),\n",
       " ('more than 4',\n",
       "  'CMPL_HANDBOOK',\n",
       "  'Intervening leave is waived off for all leave categories except SL, Maternity, Paternity and Marriage Leaves and for any type of leaves more than 4 working days.  ',\n",
       "  10.62286299062343),\n",
       " ('180',\n",
       "  'CMPL_HANDBOOK',\n",
       "  'All women employees will be entitled to maternity leave, if they have completed a minimum of 180 days of service in CMPL, prior to proceeding on such leave. ',\n",
       "  8.657401431327012)]"
      ]
     },
     "execution_count": 10,
     "metadata": {},
     "output_type": "execute_result"
    }
   ],
   "source": [
    "query=\"How many days’ leave is an employee entitled to on marriage?\"\n",
    "prediction = cdqa_pipeline.predict(query, 3)\n",
    "prediction"
   ]
  }
 ],
 "metadata": {
  "kernelspec": {
   "display_name": "Python 3",
   "language": "python",
   "name": "python3"
  },
  "language_info": {
   "codemirror_mode": {
    "name": "ipython",
    "version": 3
   },
   "file_extension": ".py",
   "mimetype": "text/x-python",
   "name": "python",
   "nbconvert_exporter": "python",
   "pygments_lexer": "ipython3",
   "version": "3.7.1"
  }
 },
 "nbformat": 4,
 "nbformat_minor": 2
}
